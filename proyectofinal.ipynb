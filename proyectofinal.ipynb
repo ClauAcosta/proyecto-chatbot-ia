{
 "cells": [
  {
   "cell_type": "code",
   "execution_count": 32,
   "metadata": {},
   "outputs": [],
   "source": [
    "from langchain_groq import ChatGroq\n",
    "from langchain.text_splitter import RecursiveCharacterTextSplitter\n",
    "from langchain_core.prompts import ChatPromptTemplate\n",
    "from langchain_core.runnables import RunnablePassthrough \n",
    "from langchain_community.vectorstores import FAISS \n",
    "from langchain_core.output_parsers import StrOutputParser \n",
    "from langchain_community.document_loaders import WebBaseLoader \n",
    "from langchain.embeddings import HuggingFaceEmbeddings \n",
    "from langchain.memory import ConversationBufferMemory \n",
    "import os\n",
    "from dotenv import load_dotenv"
   ]
  },
  {
   "cell_type": "code",
   "execution_count": 33,
   "metadata": {},
   "outputs": [
    {
     "data": {
      "text/plain": [
       "True"
      ]
     },
     "execution_count": 33,
     "metadata": {},
     "output_type": "execute_result"
    }
   ],
   "source": [
    "load_dotenv()"
   ]
  },
  {
   "cell_type": "code",
   "execution_count": 34,
   "metadata": {},
   "outputs": [],
   "source": [
    "# Definir URLs de las páginas a cargar\n",
    "page_urls = [\n",
    "   \"https://www.bloomberglinea.com/latinoamerica/argentina/\"\n",
    "    #\"https://www.ambito.com/finanzas\"\n",
    "    # \"https://newsapi.org/v2/everything\"\n",
    "     ]"
   ]
  },
  {
   "cell_type": "code",
   "execution_count": 35,
   "metadata": {},
   "outputs": [],
   "source": [
    "loader = WebBaseLoader(web_path=[page_urls])"
   ]
  },
  {
   "cell_type": "code",
   "execution_count": 36,
   "metadata": {},
   "outputs": [],
   "source": [
    "# Cargar documentos desde las URLs\n",
    "docs = []\n",
    "for page_url in page_urls:\n",
    "    try:\n",
    "        loader = WebBaseLoader(web_path=[page_url])\n",
    "        docs_lazy = loader.lazy_load()\n",
    "        for doc in docs_lazy:\n",
    "            docs.append(doc)\n",
    "    except Exception as e:\n",
    "        st.error(f\"Error al cargar contenido de {page_url}: {e}\")"
   ]
  },
  {
   "cell_type": "code",
   "execution_count": 37,
   "metadata": {},
   "outputs": [
    {
     "data": {
      "text/plain": [
       "[Document(metadata={'source': 'https://www.bloomberglinea.com/latinoamerica/argentina/', 'title': 'Últimas noticias de la economía argentina: Dólar blue, MEP, oficial,  inflación, negocios, finanzas y  más - Bloomberg Línea', 'description': 'Todo sobre la economía de Argentina y sus noticias. La inflación el dólar blue, Mep, oficial, las finanzas y los negocios. La economía de Argentina en Bloomberg Línea', 'language': 'es'}, page_content='Últimas noticias de la economía argentina: Dólar blue, MEP, oficial,  inflación, negocios, finanzas y  más - Bloomberg Línea\\n\\n\\n\\n\\n\\n\\nNoticia Últimas noticias de la economía argentina: Dólar blue, MEP, oficial,  inflación, negocios, finanzas y  más - Bloomberg LíneaÚltimas noticias económicas de LatamPUBLICIDADSeleccione un paísSuscribirseIngresarIdiomaEspañolEnglishPortuguêsNorteaméricaEEUUMéxicoCentroamérica y el CaribeCosta RicaEl SalvadorCaribeNicaraguaGuatemalaHondurasPanamáRepública DominicanaSudaméricaArgentinaBoliviaBrasilChileColombiaEcuadorPerúUruguayParaguayVenezuelaLas noticias del díaNewslettersMercadosCriptoLatinoaméricaTecnologíaTest de conocimientosNegociosPodcastsBloomberg GreenEconomíaEstilo de vidaMundoVideosEnglishSuscribirseIngresarIdiomaEspañolEnglishPortuguêsNorteaméricaEEUUMéxicoCentroamérica y el CaribeCosta RicaEl SalvadorCaribeNicaraguaGuatemalaHondurasPanamáRepública DominicanaSudaméricaArgentinaBoliviaBrasilChileColombiaEcuadorPerúUruguayParaguayVenezuelaArgentinaCrece el apetito de bancos argentinos por las LeFi antes del último test del Tesoro de noviembreLas letras que emite el Tesoro y solo pueden ser suscriptas por los bancos llegaron a un récord de ARS$15,6 billones en la última semanaArgentinaFin de los préstamos ANSES para jubilados: Gobierno le quitó la facultad de prestar dineroArgentinaInvertir en Argentina: ¿Sigue siendo conveniente apostar al carry trade?EconomíaLas 15 ciudades que concentran más multimillonarios: solo una destaca por LatinoaméricaLatinoaméricaLatam registra 11 feminicidios diarios y Cepal pide a los gobiernos “actuar con urgencia” PerúMegainversión portuaria: Perú quiere profundizar rol clave en comercio China-LatinoaméricaMundoIsrael y Hezbolá están cerca de un alto al fuego, afirma enviado israelí a WashingtonElecciones 2023 argentinaArgentinaLos tres factores que podrían sostener el peso fuerte y evitar una devaluación en ArgentinaUn informe de la consultora 1816 puntualiza en los aspectos que podrían evitar que la apreciación cambiaria finalice en forma abruptaIndec reveló que la actividad retrocedió en septiembre tras revisar al alza los meses previos Sierra Grande, la ciudad de los anuncios incumplidos que espera los millones de dólares de Vaca MuertaARGENTINAAdvertencia del “brujo de los mercados”, el EMAE de septiembre y upgrade de Fitch para $YPFUn peso muerto menos para la rentabilidad de los bancos: cambios en normas de efectivo mínimoMenos cepo: Banco Central habilita a importadores a usar dólares propiosConfianza del consumidor alcanza máximo nivel de la era Milei, según la UTDTPlanes de Galperin para $MELI, avanzan negociaciones con el FMI y vuela confianza del consumidorGobierno argentino aseguró que habrá un nuevo acuerdo con el FMI y espera apoyo de TrumpSantander eleva el precio objetivo de la acción de YPF, que ya saltó 52% en noviembre Exclusiva: el BCRA refuerza la inyección de billetes importados de $20.000 en 2025ActualidadYamandú Orsi será el próximo presidente de Uruguay: cinco cosas que debe saber el luneshace 3 horasEconomíaInversores chinos digieren otra decepción por ganancias de grandes tecnológicashace 12 horasEstados UnidosLos metales básicos suben y el dólar cae tras la elección de Bessent para el Tesorohace 4 horasActualidadLa población china caerá en 51 millones al fracasar los movimientos a favor de la natalidadhace 20 horasMercadosCinco gráficos clave a seguir esta semana en los mercados mundiales de materias primashace 8 horasActualidadUn empujón de JPMorgan llevó a investigar los vínculos de Alex Staley con Jeffrey Epsteinhace 19 horasDOLAR BLUECotización del dólar bluedolar oficialCotización del dólar oficialDólar CCL BYMACotización del dólar CCL Bymabrasil en españolÚltimas noticiasPUBLICIDADVideos BloombergVideoSegún Garver, podría haber misiones a Marte de SpaceX en 4 o 5 añosMientras SpaceX lanza con éxito su cohete Starship por sexta vez, Lori Garver, asesora operativa de Bessemer Venture Partners y exadministradora adjuntaLas previsiones de ingresos de Nvidia no cumplen las expectativasUcrania-Rusia: EE. UU. proporcionará minas terrestres a KievPUBLICIDADLatinoamérica y el MundoEconomíaIrán se prepara para el regreso de Trump con la economía tambaleándose por las sancionesLas miradas están puestas en si Trump revivirá su llamada política de máxima presión contra IránLatinoaméricaOrsi gana las elecciones en Uruguay tras derrotar al partido gobernanteActualidadBiden se apresura a reforzar Ucrania antes de que Trump tome el controlPUBLICIDADMercadosNOMBREÚLTIMOVariación neta% CAMBIO1 MESEl añoHORARIO (EDT)NASDAQ19.054,13+45,57+0,27%+555,32+3992,3010:13Ibovespa129.113,04-14,56-0,01%-697,77-5059,7010:13IPSA6582,83+18,67+0,28%-177,62+366,3910:07S&P Merval2.248.685,00+32.803,00+1,66%+378.358,00+1.282.284,0010:07S&P/BMV IPC50.568,94+130,01+0,28%-1290,25-6956,2310:08S&P/BVL30.105,40-163,49-0,54%-876,71+4327,7510:07PUBLICIDADPUBLICIDADPUBLICIDADPodcast - La Estrategia del Día ArgentinaNuevo EpisodioAdvertencia del “brujo de los mercados”, el EMAE de septiembre y upgrade de Fitch para $YPFCapítulo 733 de La Estrategia del Día Argentina: Además, @TomiCarrio con #ElCierre de la semanaOtros EpisodiosPlanes de Galperin para $MELI, avanzan negociaciones con el FMI y vuela confianza del consumidorPor qué baja el dólar en Argentina, UBS recomienda bonos de $MELI y lo último de la guerra en UcraniaEntrevista de Milei a Lex Fridman, cierre del G20 y bajan precios importadosVer másLinea greenCOP29 concluye con un acuerdo sobre financiamiento climático tras una amarga luchaLa COP29 llega a su fase final con una oferta de US$300.000 millones El objetivo climático de 1,5°C está muerto: ¿por qué aún se habla de ello en la COP29?COP29 alcanza acuerdo sobre créditos de carbono con dudas sobre la integridad del mercadoConozca al capitalista climático más polémico del mundoAlgunos de los alojamientos con enfoque sostenible para conocer Costa RicaAlgunos de los alojamientos con enfoque sostenible para conocer Costa RicaCOP29 concluye con un acuerdo sobre financiamiento climático tras una amarga luchaLa COP29 llega a su fase final con una oferta de US$300.000 millones El objetivo climático de 1,5°C está muerto: ¿por qué aún se habla de ello en la COP29?COP29 alcanza acuerdo sobre créditos de carbono con dudas sobre la integridad del mercadoConozca al capitalista climático más polémico del mundoFinanciamiento climático en vilo en la COP29 pese a ofertas de Europa y EE.UU.Brasil y Uruguay lideran el consumo de energía renovable; Argentina y México están rezagadosMéxico se compromete a lograr cero emisiones netas en 2050 en COP29COP29 entra en su recta final con países divididos por el financiamiento climáticoLa demanda de trabajadores para la economía verde crece, pero no así la ofertaCriptoEl furor cripto tras el triunfo de Trump impulsa a Solana y a las memecoins de su redUn informe reciente destacó que seis divisas meme de la red Solana habían superado los US$1.000 millones de capitalización bursátilEl bitcoin sube y se acerca a los US$100.000 ante apoyo de Trump a las criptomonedasEl mayor activo digital subió hasta un 4,1% a un récord de US$98,342 el juevesRusia limitará la minería cripto en algunas regiones por falta de energíaEn las zonas sujetas a restricciones se ubican varias de las principales mineras de cripto del país, que gozan de electricidad más económica y fácil acceso a la red eléctricaBitcoin, a punto de alcanzar US$95.000 mientras criptomonedas buscan línea directa con TrumpEl mayor activo digital subió más de un 2% en EE.UU. el miércoles y alcanzó un máximo histórico de US$94.983 el jueves a primera hora en AsiaPUBLICIDADNegociosNegociosNovo Nordisk lanza Wegovy en China con precios muy inferiores a los de EE.UU.Las tasas de obesidad en China están aumentando, y un estudio realizado en 2023 estima que unos 85 millones de adultos padecen esta enfermedadEstados UnidosAlianza Musk-Trump hace que los fondos de inversión del Golfo pongan sus ojos en EE.UU.Una razón determinante son los nexos de los fondos con Musk, quien dirigirá conjuntamente el Departamento de Eficiencia Gubernamental de la administración TrumpMundoOficinas familiares en Dubái ya gestionan activos por más de US$1 billónLas empresas familiares contribuyen significativamente a la economía de Dubái, afirmó Arif Aamiri, CEO de la Autoridad del Centro Financiero InternacionalNegociosEl auge inmobiliario de Dubái incentiva formas creativas de invertirLa compra de propiedades en Dubái sigue siendo la vía más directa para exponerse al mercado, pero 17 trimestres consecutivos de revalorización de los precios han puesto esa opción fuera del alcance de muchosEstilo de Vida‘Wicked’ y ‘Gladiator II’ abren con 170 millones de dólares en los cinesEl estreno simultáneo de dos películas de Hollywood de gran presupuesto recuerda al fin de semana “Barbenheimer” del año pasadoGladiador II, de Ridley Scott, es más grandiosa y confusa que la primeraSi necesita una razón para ver esta película, presenciar la actuación de Denzel Washington como Macrinus debe ser suficienteEstos son los nuevos campos de golf más llamativos para jugar en 2025Desde hoyos ubicados sobre el río Columbia en Carolina del Sur hasta el primer campo en una isla del Medio OrienteEl Porsche Panamera híbrido de US$226.500 hará que te olvides del TaycanLas ventas del Panamera durante este año han descendido un 20% en comparación con el 2023, en gran medida por el decreciente interés de los compradores de ChinaPUBLICIDADMás NoticiasCrece el apetito de bancos argentinos por las LeFi antes del último test del Tesoro de noviembreTrump elige a Brooke Rollins como secretaria de AgriculturaEl reloj suizo de de Trump se vende lentamente: ¿cuánto cuesta?Israel dice que un rabino de EAU ha desaparecido en un presunto incidente terroristaBosch reducirá la jornada laboral y los salarios de 10.000 empleadosSecretario General de la OTAN se reúne con Trump entre temores por la ayuda a UcraniaBiden se apresura a reforzar Ucrania antes de que Trump tome el controlTrump crea un equipo sanitario con los nominados a la FDA y el consejero delegado de SanidadPUBLICIDADTrump elige al veterano de la NFL Scott Turner para dirigir el Departamento de ViviendaOperadores de divisas apuestan a que Trump aumentará la volatilidad del mercadoMusk elude sanción por elegir el lanzamiento de un cohete antes que una reunión con la SECEE.UU. investiga los vínculos de JPMorgan con un fondo de cobertura iraníGobierno español eleva el impuesto extraordinario que afecta a Santander y a BBVAIrán ampliará capacidad nuclear tras la reprimenda de Occidente en la ONUElecciones en Uruguay: ¿a qué hora de este domingo se sabrá quién es el nuevo presidente?Putin dice que Rusia podría volver a utilizar un nuevo misil tras el ataque a UcraniaPUBLICIDADLa confianza del consumidor en EE.UU. sube menos de lo previsto tras las eleccionesLa familia más rica de Chile recortará participación en energética francesa NexansDos factores explican el alza del oro durante los últimos cuatro díasDólar hoy 22 de noviembre: Peso pierde terreno tras datos de inflación y PIB en MéxicoParlamento ucraniano cancela sesión plenaria en medio de nueva amenaza de atentadoEl dólar avanza hacia su ganancia más larga en un año en medio de demanda de activos refugioPlanes de Galperin para $MELI, avanzan negociaciones con el FMI y vuela confianza del consumidorHaití llama al embajador francés por comentarios “inaceptables” de MacronPUBLICIDADCaputo reconoció que negocia con el FMI los montos para un nuevo programa con ArgentinaInflación japonesa se mantiene por encima del objetivo del Banco de JapónEE.UU. sanciona a Gazprombank para restringir exportaciones de gas rusoFitch Ratings mantiene a República Dominicana en BB- con perspectiva positivaAtaque de Rusia a Ucrania fue en represalia por uso misiles estadounidenses y británicos: PutinMatt Gaetz se retira de la nominación para fiscal general de EE.UU.Ecuador sigue a EE.UU. y reconoce a Edmundo González como presidente electo de VenezuelaPor qué el Gobierno habla de “judicialización política” en el caso del hermano de Dina BoluartePUBLICIDADLa Estrategia del Día: La defensa del PIB, Citibanamex, el costo de elegir jueces, Target y NvidiaPeticiones iniciales de subsidio de desempleo en EE.UU. caen a nivel más bajo desde abrilCEO de Boeing pide a sus empleados unión para cambiar el rumbo de la empresaDólar hoy 21 de noviembre: Peso mexicano encabeza pérdidas entre las mayores divisasLa administración Biden pretende condonar US$4.600 millones de la deuda ucranianaPor qué baja el dólar en Argentina, UBS recomienda bonos de $MELI y lo último de la guerra en UcraniaINE pide retrasar elección de jueces en medio de discusión de presupuesto en MéxicoMéxico, Chile, Colombia y Brasil piden evitar que guerra entre Rusia y Ucrania escalePUBLICIDADFord planea recortar 4.000 empleos más en Europa mientras vehículos eléctricos pierden impulsoSe espera que Trump nombre a Vought para dirigir la Oficina Presupuestaria, según CBSVerónica Abad regresa a Ecuador en un “acto de rebeldía” para pedirle explicaciones a NoboaExportaciones de Japón crecen impulsadas por la demanda chinaTipo de cambio hoy 20 de noviembre: Peso cae ante el fortalecimiento generalizado del dólarNetanyahu ofrece recompensa de US$5 millones por cada rehén devueltoEl oro cae por la fortaleza del dólar, mientras los inversores se fijan en Ucrania y RusiaEntrevista de Milei a Lex Fridman, cierre del G20 y bajan precios importadosPUBLICIDADCargar másLíder de contenido en negocios y finanzas, presente en 20 países de América Latina. Con más de 50 reporteros, creadores de contenido, analistas y cientos de noticias diarias.SuscribirseLatinoaméricaLatinoamérica y el mundoBrasilMéxicoArgentinaColombiaVenezuelaChilePerúEcuadorPanamáUruguayCosta RicaEl SalvadorRepública DominicanaGuatemalaSobre NosotrosEconomíaMercadosDólar HoyActualidadCriptoFinanzas PersonalesPodcastsListas de Bloomberg LíneaTérminos de usoSuscríbetePolítica de privacidadTérminos de suscripciónTecnologíaT&CNegociospartnerships@bloomberglinea.comAnúnciate con nosotros ads@bloomberglinea.comSoporte al cliente: support@bloomberglinea.comSoluciones de publicidad© Copyright, Bloomberg Línea | Falic Media\\nPM Button\\n')]"
      ]
     },
     "execution_count": 37,
     "metadata": {},
     "output_type": "execute_result"
    }
   ],
   "source": [
    "docs"
   ]
  },
  {
   "cell_type": "code",
   "execution_count": 38,
   "metadata": {},
   "outputs": [],
   "source": [
    " #Dividir documentos en trozos más pequeños\n",
    "splitter = RecursiveCharacterTextSplitter(\n",
    "    chunk_size=1000,\n",
    "    chunk_overlap=100,\n",
    "    separators=[\"\\n\", \"\\n\\n\", \".\"]\n",
    ")"
   ]
  },
  {
   "cell_type": "code",
   "execution_count": 39,
   "metadata": {},
   "outputs": [],
   "source": [
    "documents = splitter.split_documents(docs)"
   ]
  },
  {
   "cell_type": "code",
   "execution_count": 40,
   "metadata": {},
   "outputs": [
    {
     "data": {
      "text/plain": [
       "{'source': 'https://www.bloomberglinea.com/latinoamerica/argentina/',\n",
       " 'title': 'Últimas noticias de la economía argentina: Dólar blue, MEP, oficial,  inflación, negocios, finanzas y  más - Bloomberg Línea',\n",
       " 'description': 'Todo sobre la economía de Argentina y sus noticias. La inflación el dólar blue, Mep, oficial, las finanzas y los negocios. La economía de Argentina en Bloomberg Línea',\n",
       " 'language': 'es'}"
      ]
     },
     "execution_count": 40,
     "metadata": {},
     "output_type": "execute_result"
    }
   ],
   "source": [
    "documents[0].metadata"
   ]
  },
  {
   "cell_type": "code",
   "execution_count": 41,
   "metadata": {},
   "outputs": [
    {
     "data": {
      "text/plain": [
       "[Document(metadata={'source': 'https://www.bloomberglinea.com/latinoamerica/argentina/', 'title': 'Últimas noticias de la economía argentina: Dólar blue, MEP, oficial,  inflación, negocios, finanzas y  más - Bloomberg Línea', 'description': 'Todo sobre la economía de Argentina y sus noticias. La inflación el dólar blue, Mep, oficial, las finanzas y los negocios. La economía de Argentina en Bloomberg Línea', 'language': 'es'}, page_content='Últimas noticias de la economía argentina: Dólar blue, MEP, oficial,  inflación, negocios, finanzas y  más - Bloomberg Línea'),\n",
       " Document(metadata={'source': 'https://www.bloomberglinea.com/latinoamerica/argentina/', 'title': 'Últimas noticias de la economía argentina: Dólar blue, MEP, oficial,  inflación, negocios, finanzas y  más - Bloomberg Línea', 'description': 'Todo sobre la economía de Argentina y sus noticias. La inflación el dólar blue, Mep, oficial, las finanzas y los negocios. La economía de Argentina en Bloomberg Línea', 'language': 'es'}, page_content='\\nNoticia Últimas noticias de la economía argentina: Dólar blue, MEP, oficial,  inflación, negocios, finanzas y  más - Bloomberg LíneaÚltimas noticias económicas de LatamPUBLICIDADSeleccione un paísSuscribirseIngresarIdiomaEspañolEnglishPortuguêsNorteaméricaEEUUMéxicoCentroamérica y el CaribeCosta RicaEl SalvadorCaribeNicaraguaGuatemalaHondurasPanamáRepública DominicanaSudaméricaArgentinaBoliviaBrasilChileColombiaEcuadorPerúUruguayParaguayVenezuelaLas noticias del díaNewslettersMercadosCriptoLatinoaméricaTecnologíaTest de conocimientosNegociosPodcastsBloomberg GreenEconomíaEstilo de vidaMundoVideosEnglishSuscribirseIngresarIdiomaEspañolEnglishPortuguêsNorteaméricaEEUUMéxicoCentroamérica y el CaribeCosta RicaEl SalvadorCaribeNicaraguaGuatemalaHondurasPanamáRepública DominicanaSudaméricaArgentinaBoliviaBrasilChileColombiaEcuadorPerúUruguayParaguayVenezuelaArgentinaCrece el apetito de bancos argentinos por las LeFi antes del último test del Tesoro de noviembreLas letras que emite el Tesoro y solo pueden ser suscriptas por los bancos llegaron a un récord de ARS$15,6 billones en la última semanaArgentinaFin de los préstamos ANSES para jubilados: Gobierno le quitó la facultad de prestar dineroArgentinaInvertir en Argentina: ¿Sigue siendo conveniente apostar al carry trade?EconomíaLas 15 ciudades que concentran más multimillonarios: solo una destaca por LatinoaméricaLatinoaméricaLatam registra 11 feminicidios diarios y Cepal pide a los gobiernos “actuar con urgencia” PerúMegainversión portuaria: Perú quiere profundizar rol clave en comercio China-LatinoaméricaMundoIsrael y Hezbolá están cerca de un alto al fuego, afirma enviado israelí a WashingtonElecciones 2023 argentinaArgentinaLos tres factores que podrían sostener el peso fuerte y evitar una devaluación en ArgentinaUn informe de la consultora 1816 puntualiza en los aspectos que podrían evitar que la apreciación cambiaria finalice en forma abruptaIndec reveló que la actividad retrocedió en septiembre tras revisar al alza los meses previos Sierra Grande, la ciudad de los anuncios incumplidos que espera los millones de dólares de Vaca MuertaARGENTINAAdvertencia del “brujo de los mercados”, el EMAE de septiembre y upgrade de Fitch para $YPFUn peso muerto menos para la rentabilidad de los bancos: cambios en normas de efectivo mínimoMenos cepo: Banco Central habilita a importadores a usar dólares propiosConfianza del consumidor alcanza máximo nivel de la era Milei, según la UTDTPlanes de Galperin para $MELI, avanzan negociaciones con el FMI y vuela confianza del consumidorGobierno argentino aseguró que habrá un nuevo acuerdo con el FMI y espera apoyo de TrumpSantander eleva el precio objetivo de la acción de YPF, que ya saltó 52% en noviembre Exclusiva: el BCRA refuerza la inyección de billetes importados de $20'),\n",
       " Document(metadata={'source': 'https://www.bloomberglinea.com/latinoamerica/argentina/', 'title': 'Últimas noticias de la economía argentina: Dólar blue, MEP, oficial,  inflación, negocios, finanzas y  más - Bloomberg Línea', 'description': 'Todo sobre la economía de Argentina y sus noticias. La inflación el dólar blue, Mep, oficial, las finanzas y los negocios. La economía de Argentina en Bloomberg Línea', 'language': 'es'}, page_content='.000 en 2025ActualidadYamandú Orsi será el próximo presidente de Uruguay: cinco cosas que debe saber el luneshace 3 horasEconomíaInversores chinos digieren otra decepción por ganancias de grandes tecnológicashace 12 horasEstados UnidosLos metales básicos suben y el dólar cae tras la elección de Bessent para el Tesorohace 4 horasActualidadLa población china caerá en 51 millones al fracasar los movimientos a favor de la natalidadhace 20 horasMercadosCinco gráficos clave a seguir esta semana en los mercados mundiales de materias primashace 8 horasActualidadUn empujón de JPMorgan llevó a investigar los vínculos de Alex Staley con Jeffrey Epsteinhace 19 horasDOLAR BLUECotización del dólar bluedolar oficialCotización del dólar oficialDólar CCL BYMACotización del dólar CCL Bymabrasil en españolÚltimas noticiasPUBLICIDADVideos BloombergVideoSegún Garver, podría haber misiones a Marte de SpaceX en 4 o 5 añosMientras SpaceX lanza con éxito su cohete Starship por sexta vez, Lori Garver, asesora operativa de Bessemer Venture Partners y exadministradora adjuntaLas previsiones de ingresos de Nvidia no cumplen las expectativasUcrania-Rusia: EE'),\n",
       " Document(metadata={'source': 'https://www.bloomberglinea.com/latinoamerica/argentina/', 'title': 'Últimas noticias de la economía argentina: Dólar blue, MEP, oficial,  inflación, negocios, finanzas y  más - Bloomberg Línea', 'description': 'Todo sobre la economía de Argentina y sus noticias. La inflación el dólar blue, Mep, oficial, las finanzas y los negocios. La economía de Argentina en Bloomberg Línea', 'language': 'es'}, page_content='. UU. proporcionará minas terrestres a KievPUBLICIDADLatinoamérica y el MundoEconomíaIrán se prepara para el regreso de Trump con la economía tambaleándose por las sancionesLas miradas están puestas en si Trump revivirá su llamada política de máxima presión contra IránLatinoaméricaOrsi gana las elecciones en Uruguay tras derrotar al partido gobernanteActualidadBiden se apresura a reforzar Ucrania antes de que Trump tome el controlPUBLICIDADMercadosNOMBREÚLTIMOVariación neta% CAMBIO1 MESEl añoHORARIO (EDT)NASDAQ19.054,13+45,57+0,27%+555,32+3992,3010:13Ibovespa129.113,04-14,56-0,01%-697,77-5059,7010:13IPSA6582,83+18,67+0,28%-177,62+366,3910:07S&P Merval2.248.685,00+32.803,00+1,66%+378.358,00+1.282.284,0010:07S&P/BMV IPC50.568,94+130,01+0,28%-1290,25-6956,2310:08S&P/BVL30'),\n",
       " Document(metadata={'source': 'https://www.bloomberglinea.com/latinoamerica/argentina/', 'title': 'Últimas noticias de la economía argentina: Dólar blue, MEP, oficial,  inflación, negocios, finanzas y  más - Bloomberg Línea', 'description': 'Todo sobre la economía de Argentina y sus noticias. La inflación el dólar blue, Mep, oficial, las finanzas y los negocios. La economía de Argentina en Bloomberg Línea', 'language': 'es'}, page_content='.358,00+1.282.284,0010:07S&P/BMV IPC50.568,94+130,01+0,28%-1290,25-6956,2310:08S&P/BVL30.105,40-163,49-0,54%-876,71+4327,7510:07PUBLICIDADPUBLICIDADPUBLICIDADPodcast - La Estrategia del Día ArgentinaNuevo EpisodioAdvertencia del “brujo de los mercados”, el EMAE de septiembre y upgrade de Fitch para $YPFCapítulo 733 de La Estrategia del Día Argentina: Además, @TomiCarrio con #ElCierre de la semanaOtros EpisodiosPlanes de Galperin para $MELI, avanzan negociaciones con el FMI y vuela confianza del consumidorPor qué baja el dólar en Argentina, UBS recomienda bonos de $MELI y lo último de la guerra en UcraniaEntrevista de Milei a Lex Fridman, cierre del G20 y bajan precios importadosVer másLinea greenCOP29 concluye con un acuerdo sobre financiamiento climático tras una amarga luchaLa COP29 llega a su fase final con una oferta de US$300'),\n",
       " Document(metadata={'source': 'https://www.bloomberglinea.com/latinoamerica/argentina/', 'title': 'Últimas noticias de la economía argentina: Dólar blue, MEP, oficial,  inflación, negocios, finanzas y  más - Bloomberg Línea', 'description': 'Todo sobre la economía de Argentina y sus noticias. La inflación el dólar blue, Mep, oficial, las finanzas y los negocios. La economía de Argentina en Bloomberg Línea', 'language': 'es'}, page_content='.000 millones El objetivo climático de 1,5°C está muerto: ¿por qué aún se habla de ello en la COP29?COP29 alcanza acuerdo sobre créditos de carbono con dudas sobre la integridad del mercadoConozca al capitalista climático más polémico del mundoAlgunos de los alojamientos con enfoque sostenible para conocer Costa RicaAlgunos de los alojamientos con enfoque sostenible para conocer Costa RicaCOP29 concluye con un acuerdo sobre financiamiento climático tras una amarga luchaLa COP29 llega a su fase final con una oferta de US$300.000 millones El objetivo climático de 1,5°C está muerto: ¿por qué aún se habla de ello en la COP29?COP29 alcanza acuerdo sobre créditos de carbono con dudas sobre la integridad del mercadoConozca al capitalista climático más polémico del mundoFinanciamiento climático en vilo en la COP29 pese a ofertas de Europa y EE.UU'),\n",
       " Document(metadata={'source': 'https://www.bloomberglinea.com/latinoamerica/argentina/', 'title': 'Últimas noticias de la economía argentina: Dólar blue, MEP, oficial,  inflación, negocios, finanzas y  más - Bloomberg Línea', 'description': 'Todo sobre la economía de Argentina y sus noticias. La inflación el dólar blue, Mep, oficial, las finanzas y los negocios. La economía de Argentina en Bloomberg Línea', 'language': 'es'}, page_content='.UU.Brasil y Uruguay lideran el consumo de energía renovable; Argentina y México están rezagadosMéxico se compromete a lograr cero emisiones netas en 2050 en COP29COP29 entra en su recta final con países divididos por el financiamiento climáticoLa demanda de trabajadores para la economía verde crece, pero no así la ofertaCriptoEl furor cripto tras el triunfo de Trump impulsa a Solana y a las memecoins de su redUn informe reciente destacó que seis divisas meme de la red Solana habían superado los US$1.000 millones de capitalización bursátilEl bitcoin sube y se acerca a los US$100.000 ante apoyo de Trump a las criptomonedasEl mayor activo digital subió hasta un 4,1% a un récord de US$98,342 el juevesRusia limitará la minería cripto en algunas regiones por falta de energíaEn las zonas sujetas a restricciones se ubican varias de las principales mineras de cripto del país, que gozan de electricidad más económica y fácil acceso a la red eléctricaBitcoin, a punto de alcanzar US$95'),\n",
       " Document(metadata={'source': 'https://www.bloomberglinea.com/latinoamerica/argentina/', 'title': 'Últimas noticias de la economía argentina: Dólar blue, MEP, oficial,  inflación, negocios, finanzas y  más - Bloomberg Línea', 'description': 'Todo sobre la economía de Argentina y sus noticias. La inflación el dólar blue, Mep, oficial, las finanzas y los negocios. La economía de Argentina en Bloomberg Línea', 'language': 'es'}, page_content='.000 mientras criptomonedas buscan línea directa con TrumpEl mayor activo digital subió más de un 2% en EE.UU. el miércoles y alcanzó un máximo histórico de US$94.983 el jueves a primera hora en AsiaPUBLICIDADNegociosNegociosNovo Nordisk lanza Wegovy en China con precios muy inferiores a los de EE.UU.Las tasas de obesidad en China están aumentando, y un estudio realizado en 2023 estima que unos 85 millones de adultos padecen esta enfermedadEstados UnidosAlianza Musk-Trump hace que los fondos de inversión del Golfo pongan sus ojos en EE.UU'),\n",
       " Document(metadata={'source': 'https://www.bloomberglinea.com/latinoamerica/argentina/', 'title': 'Últimas noticias de la economía argentina: Dólar blue, MEP, oficial,  inflación, negocios, finanzas y  más - Bloomberg Línea', 'description': 'Todo sobre la economía de Argentina y sus noticias. La inflación el dólar blue, Mep, oficial, las finanzas y los negocios. La economía de Argentina en Bloomberg Línea', 'language': 'es'}, page_content='.Una razón determinante son los nexos de los fondos con Musk, quien dirigirá conjuntamente el Departamento de Eficiencia Gubernamental de la administración TrumpMundoOficinas familiares en Dubái ya gestionan activos por más de US$1 billónLas empresas familiares contribuyen significativamente a la economía de Dubái, afirmó Arif Aamiri, CEO de la Autoridad del Centro Financiero InternacionalNegociosEl auge inmobiliario de Dubái incentiva formas creativas de invertirLa compra de propiedades en Dubái sigue siendo la vía más directa para exponerse al mercado, pero 17 trimestres consecutivos de revalorización de los precios han puesto esa opción fuera del alcance de muchosEstilo de Vida‘Wicked’ y ‘Gladiator II’ abren con 170 millones de dólares en los cinesEl estreno simultáneo de dos películas de Hollywood de gran presupuesto recuerda al fin de semana “Barbenheimer” del año pasadoGladiador II, de Ridley Scott, es más grandiosa y confusa que la primeraSi necesita una razón para ver esta película, presenciar la actuación de Denzel Washington como Macrinus debe ser suficienteEstos son los nuevos campos de golf más llamativos para jugar en 2025Desde hoyos ubicados sobre el río Columbia en Carolina del Sur hasta el primer campo en una isla del Medio OrienteEl Porsche Panamera híbrido de US$226'),\n",
       " Document(metadata={'source': 'https://www.bloomberglinea.com/latinoamerica/argentina/', 'title': 'Últimas noticias de la economía argentina: Dólar blue, MEP, oficial,  inflación, negocios, finanzas y  más - Bloomberg Línea', 'description': 'Todo sobre la economía de Argentina y sus noticias. La inflación el dólar blue, Mep, oficial, las finanzas y los negocios. La economía de Argentina en Bloomberg Línea', 'language': 'es'}, page_content='.500 hará que te olvides del TaycanLas ventas del Panamera durante este año han descendido un 20% en comparación con el 2023, en gran medida por el decreciente interés de los compradores de ChinaPUBLICIDADMás NoticiasCrece el apetito de bancos argentinos por las LeFi antes del último test del Tesoro de noviembreTrump elige a Brooke Rollins como secretaria de AgriculturaEl reloj suizo de de Trump se vende lentamente: ¿cuánto cuesta?Israel dice que un rabino de EAU ha desaparecido en un presunto incidente terroristaBosch reducirá la jornada laboral y los salarios de 10'),\n",
       " Document(metadata={'source': 'https://www.bloomberglinea.com/latinoamerica/argentina/', 'title': 'Últimas noticias de la economía argentina: Dólar blue, MEP, oficial,  inflación, negocios, finanzas y  más - Bloomberg Línea', 'description': 'Todo sobre la economía de Argentina y sus noticias. La inflación el dólar blue, Mep, oficial, las finanzas y los negocios. La economía de Argentina en Bloomberg Línea', 'language': 'es'}, page_content='.000 empleadosSecretario General de la OTAN se reúne con Trump entre temores por la ayuda a UcraniaBiden se apresura a reforzar Ucrania antes de que Trump tome el controlTrump crea un equipo sanitario con los nominados a la FDA y el consejero delegado de SanidadPUBLICIDADTrump elige al veterano de la NFL Scott Turner para dirigir el Departamento de ViviendaOperadores de divisas apuestan a que Trump aumentará la volatilidad del mercadoMusk elude sanción por elegir el lanzamiento de un cohete antes que una reunión con la SECEE.UU. investiga los vínculos de JPMorgan con un fondo de cobertura iraníGobierno español eleva el impuesto extraordinario que afecta a Santander y a BBVAIrán ampliará capacidad nuclear tras la reprimenda de Occidente en la ONUElecciones en Uruguay: ¿a qué hora de este domingo se sabrá quién es el nuevo presidente?Putin dice que Rusia podría volver a utilizar un nuevo misil tras el ataque a UcraniaPUBLICIDADLa confianza del consumidor en EE.UU'),\n",
       " Document(metadata={'source': 'https://www.bloomberglinea.com/latinoamerica/argentina/', 'title': 'Últimas noticias de la economía argentina: Dólar blue, MEP, oficial,  inflación, negocios, finanzas y  más - Bloomberg Línea', 'description': 'Todo sobre la economía de Argentina y sus noticias. La inflación el dólar blue, Mep, oficial, las finanzas y los negocios. La economía de Argentina en Bloomberg Línea', 'language': 'es'}, page_content='.UU. sube menos de lo previsto tras las eleccionesLa familia más rica de Chile recortará participación en energética francesa NexansDos factores explican el alza del oro durante los últimos cuatro díasDólar hoy 22 de noviembre: Peso pierde terreno tras datos de inflación y PIB en MéxicoParlamento ucraniano cancela sesión plenaria en medio de nueva amenaza de atentadoEl dólar avanza hacia su ganancia más larga en un año en medio de demanda de activos refugioPlanes de Galperin para $MELI, avanzan negociaciones con el FMI y vuela confianza del consumidorHaití llama al embajador francés por comentarios “inaceptables” de MacronPUBLICIDADCaputo reconoció que negocia con el FMI los montos para un nuevo programa con ArgentinaInflación japonesa se mantiene por encima del objetivo del Banco de JapónEE.UU'),\n",
       " Document(metadata={'source': 'https://www.bloomberglinea.com/latinoamerica/argentina/', 'title': 'Últimas noticias de la economía argentina: Dólar blue, MEP, oficial,  inflación, negocios, finanzas y  más - Bloomberg Línea', 'description': 'Todo sobre la economía de Argentina y sus noticias. La inflación el dólar blue, Mep, oficial, las finanzas y los negocios. La economía de Argentina en Bloomberg Línea', 'language': 'es'}, page_content='.UU. sanciona a Gazprombank para restringir exportaciones de gas rusoFitch Ratings mantiene a República Dominicana en BB- con perspectiva positivaAtaque de Rusia a Ucrania fue en represalia por uso misiles estadounidenses y británicos: PutinMatt Gaetz se retira de la nominación para fiscal general de EE.UU.Ecuador sigue a EE.UU. y reconoce a Edmundo González como presidente electo de VenezuelaPor qué el Gobierno habla de “judicialización política” en el caso del hermano de Dina BoluartePUBLICIDADLa Estrategia del Día: La defensa del PIB, Citibanamex, el costo de elegir jueces, Target y NvidiaPeticiones iniciales de subsidio de desempleo en EE.UU. caen a nivel más bajo desde abrilCEO de Boeing pide a sus empleados unión para cambiar el rumbo de la empresaDólar hoy 21 de noviembre: Peso mexicano encabeza pérdidas entre las mayores divisasLa administración Biden pretende condonar US$4'),\n",
       " Document(metadata={'source': 'https://www.bloomberglinea.com/latinoamerica/argentina/', 'title': 'Últimas noticias de la economía argentina: Dólar blue, MEP, oficial,  inflación, negocios, finanzas y  más - Bloomberg Línea', 'description': 'Todo sobre la economía de Argentina y sus noticias. La inflación el dólar blue, Mep, oficial, las finanzas y los negocios. La economía de Argentina en Bloomberg Línea', 'language': 'es'}, page_content='.600 millones de la deuda ucranianaPor qué baja el dólar en Argentina, UBS recomienda bonos de $MELI y lo último de la guerra en UcraniaINE pide retrasar elección de jueces en medio de discusión de presupuesto en MéxicoMéxico, Chile, Colombia y Brasil piden evitar que guerra entre Rusia y Ucrania escalePUBLICIDADFord planea recortar 4'),\n",
       " Document(metadata={'source': 'https://www.bloomberglinea.com/latinoamerica/argentina/', 'title': 'Últimas noticias de la economía argentina: Dólar blue, MEP, oficial,  inflación, negocios, finanzas y  más - Bloomberg Línea', 'description': 'Todo sobre la economía de Argentina y sus noticias. La inflación el dólar blue, Mep, oficial, las finanzas y los negocios. La economía de Argentina en Bloomberg Línea', 'language': 'es'}, page_content='.000 empleos más en Europa mientras vehículos eléctricos pierden impulsoSe espera que Trump nombre a Vought para dirigir la Oficina Presupuestaria, según CBSVerónica Abad regresa a Ecuador en un “acto de rebeldía” para pedirle explicaciones a NoboaExportaciones de Japón crecen impulsadas por la demanda chinaTipo de cambio hoy 20 de noviembre: Peso cae ante el fortalecimiento generalizado del dólarNetanyahu ofrece recompensa de US$5 millones por cada rehén devueltoEl oro cae por la fortaleza del dólar, mientras los inversores se fijan en Ucrania y RusiaEntrevista de Milei a Lex Fridman, cierre del G20 y bajan precios importadosPUBLICIDADCargar másLíder de contenido en negocios y finanzas, presente en 20 países de América Latina. Con más de 50 reporteros, creadores de contenido, analistas y cientos de noticias diarias'),\n",
       " Document(metadata={'source': 'https://www.bloomberglinea.com/latinoamerica/argentina/', 'title': 'Últimas noticias de la economía argentina: Dólar blue, MEP, oficial,  inflación, negocios, finanzas y  más - Bloomberg Línea', 'description': 'Todo sobre la economía de Argentina y sus noticias. La inflación el dólar blue, Mep, oficial, las finanzas y los negocios. La economía de Argentina en Bloomberg Línea', 'language': 'es'}, page_content='. Con más de 50 reporteros, creadores de contenido, analistas y cientos de noticias diarias.SuscribirseLatinoaméricaLatinoamérica y el mundoBrasilMéxicoArgentinaColombiaVenezuelaChilePerúEcuadorPanamáUruguayCosta RicaEl SalvadorRepública DominicanaGuatemalaSobre NosotrosEconomíaMercadosDólar HoyActualidadCriptoFinanzas PersonalesPodcastsListas de Bloomberg LíneaTérminos de usoSuscríbetePolítica de privacidadTérminos de suscripciónTecnologíaT&CNegociospartnerships@bloomberglinea.comAnúnciate con nosotros ads@bloomberglinea.comSoporte al cliente: support@bloomberglinea.comSoluciones de publicidad© Copyright, Bloomberg Línea | Falic Media'),\n",
       " Document(metadata={'source': 'https://www.bloomberglinea.com/latinoamerica/argentina/', 'title': 'Últimas noticias de la economía argentina: Dólar blue, MEP, oficial,  inflación, negocios, finanzas y  más - Bloomberg Línea', 'description': 'Todo sobre la economía de Argentina y sus noticias. La inflación el dólar blue, Mep, oficial, las finanzas y los negocios. La economía de Argentina en Bloomberg Línea', 'language': 'es'}, page_content='PM Button')]"
      ]
     },
     "execution_count": 41,
     "metadata": {},
     "output_type": "execute_result"
    }
   ],
   "source": [
    "documents"
   ]
  },
  {
   "cell_type": "code",
   "execution_count": 42,
   "metadata": {},
   "outputs": [
    {
     "name": "stderr",
     "output_type": "stream",
     "text": [
      "c:\\chatbot\\venv\\Lib\\site-packages\\transformers\\tokenization_utils_base.py:1601: FutureWarning: `clean_up_tokenization_spaces` was not set. It will be set to `True` by default. This behavior will be depracted in transformers v4.45, and will be then set to `False` by default. For more details check this issue: https://github.com/huggingface/transformers/issues/31884\n",
      "  warnings.warn(\n"
     ]
    }
   ],
   "source": [
    "llm=ChatGroq(model=\"llama-3.2-90b-vision-preview\")\n",
    "embeddings = HuggingFaceEmbeddings(model_name=\"sentence-transformers/all-MiniLM-L6-v2\")\n"
   ]
  },
  {
   "cell_type": "code",
   "execution_count": 43,
   "metadata": {},
   "outputs": [],
   "source": [
    "vectorstore = FAISS.from_documents(documents, embeddings)"
   ]
  },
  {
   "cell_type": "code",
   "execution_count": 44,
   "metadata": {},
   "outputs": [],
   "source": [
    "retriever = vectorstore.as_retriever()"
   ]
  },
  {
   "cell_type": "code",
   "execution_count": 45,
   "metadata": {},
   "outputs": [],
   "source": [
    "# Configurar el prompt y el parser de salida\n",
    "template = \"\"\"Responder las preguntas  basado en el siguiente contexto:\n",
    "{context}\n",
    "\n",
    "Pregunta: {question}\n",
    "\"\"\"\n",
    "\n",
    "prompt = ChatPromptTemplate.from_template(template)"
   ]
  },
  {
   "cell_type": "code",
   "execution_count": 46,
   "metadata": {},
   "outputs": [],
   "source": [
    "output_parser = StrOutputParser()"
   ]
  },
  {
   "cell_type": "code",
   "execution_count": 47,
   "metadata": {},
   "outputs": [],
   "source": [
    "#Configurar memoria para el agente\n",
    "memory = ConversationBufferMemory()"
   ]
  },
  {
   "cell_type": "code",
   "execution_count": 48,
   "metadata": {},
   "outputs": [],
   "source": [
    "# Crear la cadena de procesamiento\n",
    "chain = (\n",
    "    {\"context\": retriever, \"question\": RunnablePassthrough()}\n",
    "    | prompt\n",
    "    | llm\n",
    "    | output_parser\n",
    ")"
   ]
  },
  {
   "cell_type": "code",
   "execution_count": 53,
   "metadata": {},
   "outputs": [
    {
     "name": "stdout",
     "output_type": "stream",
     "text": [
      "Human: En forma de lista dame los titulares sobre finanzas\n",
      "AI: A continuación, te proporciono una lista de titulares relacionados con finanzas:\n",
      "\n",
      "1. Dólar hoy 22 de noviembre: Peso pierde terreno tras datos de inflación y PIB en México\n",
      "2. Dólar hoy 21 de noviembre: Peso mexicano encabeza pérdidas entre las mayores divisas\n",
      "3. UU. sanciona a Gazprombank para restringir exportaciones de gas ruso\n",
      "4. Fitch Ratings mantiene a República Dominicana en BB- con perspectiva positiva\n",
      "5. La administración Biden pretende condonar US$4.600 millones de la deuda ucraniana\n",
      "6. UBS recomienda bonos de $MELI\n",
      "7. Caputo reconoció que negocia con el FMI los montos para un nuevo programa con Argentina\n",
      "8. Avanzan negociaciones con el FMI y vuela confianza del consumidor\n",
      "9. CEO de Boeing pide a sus empleados unión para cambiar el rumbo de la empresa\n",
      "Human: En forma de lista dame los titulares sobre finanzas\n",
      "AI: Aquí te presento algunos titulares relacionados con finanzas que se mencionan en el contexto:\n",
      "\n",
      "* \"Dólar hoy 22 de noviembre: Peso pierde terreno tras datos de inflación y PIB en México\"\n",
      "* \"Dólar hoy 21 de noviembre: Peso mexicano encabeza pérdidas entre las mayores divisas\"\n",
      "* \"La administración Biden pretende condonar US$4.000 millones de la deuda ucraniana\"\n",
      "* \"Fitch Ratings mantiene a República Dominicana en BB- con perspectiva positiva\"\n",
      "* \"EE.UU. sanciona a Gazprombank para restringir exportaciones de gas ruso\"\n",
      "* \"UBS recomienda bonos de $MELI\"\n",
      "* \"Caputo reconoció que negocia con el FMI los montos para un nuevo programa con Argentina\"\n",
      "* \"Avanzan negociaciones con el FMI y vuela confianza del consumidor\"\n",
      "* \"La inflación japonesa se mantiene por encima del objetivo del Banco de Japón\"\n",
      "Human: informacion sobre bitcoin\n",
      "AI: Según el contenido proporcionado, hay varias menciones de Bitcoin. A continuación, te presento la información relevante:\n",
      "\n",
      "* El Bitcoin subió y se acercó a los US$100.000 ante el apoyo de Trump a las criptomonedas.\n",
      "* El mayor activo digital subió hasta un 4,1% a un récord de US$98.342 el jueves.\n",
      "* El Bitcoin alcanzó un máximo histórico de US$94.983 el jueves a primera hora en Asia.\n",
      "* El Bitcoin se acercó a los US$95.000.\n",
      "\n",
      "En resumen, el Bitcoin experimentó un aumento significativo en su valor, alcanzando un máximo histórico de US$94.983 y acercándose a los US$100.000, posiblemente debido al apoyo de Trump a las criptomonedas.\n"
     ]
    }
   ],
   "source": [
    "# Invocar la cadena con la memoria\n",
    "question = \"informacion sobre bitcoin\"\n",
    "response = chain.invoke(question)\n",
    "\n",
    "# Guardar el contexto en la memoria\n",
    "memory.save_context({\"question\": question}, {\"response\": response})\n",
    "\n",
    "# Mostrar el contenido de la memoria\n",
    "print(memory.buffer)  # Mostrar el historial de la conversación\n"
   ]
  },
  {
   "cell_type": "code",
   "execution_count": 50,
   "metadata": {},
   "outputs": [],
   "source": [
    "# Invocar la cadena con la memoria\n",
    "question = \"En forma de lista dame los titulares sobre finanzas\"\n",
    "response = chain.invoke(question)"
   ]
  },
  {
   "cell_type": "code",
   "execution_count": 51,
   "metadata": {},
   "outputs": [],
   "source": [
    "# Guardar el contexto en la memoria\n",
    "memory.save_context({\"question\": question}, {\"response\": response})"
   ]
  },
  {
   "cell_type": "code",
   "execution_count": 52,
   "metadata": {},
   "outputs": [
    {
     "name": "stdout",
     "output_type": "stream",
     "text": [
      "Human: En forma de lista dame los titulares sobre finanzas\n",
      "AI: A continuación, te proporciono una lista de titulares relacionados con finanzas:\n",
      "\n",
      "1. Dólar hoy 22 de noviembre: Peso pierde terreno tras datos de inflación y PIB en México\n",
      "2. Dólar hoy 21 de noviembre: Peso mexicano encabeza pérdidas entre las mayores divisas\n",
      "3. UU. sanciona a Gazprombank para restringir exportaciones de gas ruso\n",
      "4. Fitch Ratings mantiene a República Dominicana en BB- con perspectiva positiva\n",
      "5. La administración Biden pretende condonar US$4.600 millones de la deuda ucraniana\n",
      "6. UBS recomienda bonos de $MELI\n",
      "7. Caputo reconoció que negocia con el FMI los montos para un nuevo programa con Argentina\n",
      "8. Avanzan negociaciones con el FMI y vuela confianza del consumidor\n",
      "9. CEO de Boeing pide a sus empleados unión para cambiar el rumbo de la empresa\n",
      "Human: En forma de lista dame los titulares sobre finanzas\n",
      "AI: Aquí te presento algunos titulares relacionados con finanzas que se mencionan en el contexto:\n",
      "\n",
      "* \"Dólar hoy 22 de noviembre: Peso pierde terreno tras datos de inflación y PIB en México\"\n",
      "* \"Dólar hoy 21 de noviembre: Peso mexicano encabeza pérdidas entre las mayores divisas\"\n",
      "* \"La administración Biden pretende condonar US$4.000 millones de la deuda ucraniana\"\n",
      "* \"Fitch Ratings mantiene a República Dominicana en BB- con perspectiva positiva\"\n",
      "* \"EE.UU. sanciona a Gazprombank para restringir exportaciones de gas ruso\"\n",
      "* \"UBS recomienda bonos de $MELI\"\n",
      "* \"Caputo reconoció que negocia con el FMI los montos para un nuevo programa con Argentina\"\n",
      "* \"Avanzan negociaciones con el FMI y vuela confianza del consumidor\"\n",
      "* \"La inflación japonesa se mantiene por encima del objetivo del Banco de Japón\"\n"
     ]
    }
   ],
   "source": [
    "# Mostrar el contenido de la memoria\n",
    "print(memory.buffer)  # Mostrar el historial de la conversación\n"
   ]
  }
 ],
 "metadata": {
  "kernelspec": {
   "display_name": "venv",
   "language": "python",
   "name": "python3"
  },
  "language_info": {
   "codemirror_mode": {
    "name": "ipython",
    "version": 3
   },
   "file_extension": ".py",
   "mimetype": "text/x-python",
   "name": "python",
   "nbconvert_exporter": "python",
   "pygments_lexer": "ipython3",
   "version": "3.12.4"
  }
 },
 "nbformat": 4,
 "nbformat_minor": 2
}
